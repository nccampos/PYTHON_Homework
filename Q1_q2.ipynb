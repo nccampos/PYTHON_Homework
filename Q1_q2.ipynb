{
 "cells": [
  {
   "cell_type": "code",
   "execution_count": 1,
   "id": "07d31bee",
   "metadata": {},
   "outputs": [],
   "source": [
    "import pandas as pd"
   ]
  },
  {
   "cell_type": "markdown",
   "id": "13961bf9",
   "metadata": {},
   "source": [
    "# Q.1"
   ]
  },
  {
   "cell_type": "code",
   "execution_count": 3,
   "id": "33bcfbdd",
   "metadata": {},
   "outputs": [],
   "source": [
    "# shift+tab\n",
    "# .tab\n",
    "df = pd.read_csv('budget_data.csv')"
   ]
  },
  {
   "cell_type": "code",
   "execution_count": 4,
   "id": "aaec4f22",
   "metadata": {},
   "outputs": [
    {
     "data": {
      "text/plain": [
       "86"
      ]
     },
     "execution_count": 4,
     "metadata": {},
     "output_type": "execute_result"
    }
   ],
   "source": [
    "month_total = len(df['Date'])\n",
    "month_total"
   ]
  },
  {
   "cell_type": "code",
   "execution_count": 5,
   "id": "143a26be",
   "metadata": {},
   "outputs": [
    {
     "data": {
      "text/plain": [
       "22564198"
      ]
     },
     "execution_count": 5,
     "metadata": {},
     "output_type": "execute_result"
    }
   ],
   "source": [
    "total = sum(df['Profit/Losses'])\n",
    "total"
   ]
  },
  {
   "cell_type": "code",
   "execution_count": 6,
   "id": "c43e40dc",
   "metadata": {},
   "outputs": [
    {
     "data": {
      "text/plain": [
       "-8311.11"
      ]
     },
     "execution_count": 6,
     "metadata": {},
     "output_type": "execute_result"
    }
   ],
   "source": [
    "df['Next'] = df['Profit/Losses'].shift(-1)\n",
    "df['Changes'] = df['Next'] - df['Profit/Losses']\n",
    "df['Date'] = df['Date'].shift(-1)\n",
    "df.dropna(inplace=True)\n",
    "change_avg = round(df['Changes'].mean(),2)\n",
    "change_avg"
   ]
  },
  {
   "cell_type": "code",
   "execution_count": 7,
   "id": "2b5ec348",
   "metadata": {},
   "outputs": [],
   "source": [
    "x = df.loc[df['Changes'].argmax()]"
   ]
  },
  {
   "cell_type": "code",
   "execution_count": 8,
   "id": "b3f79255",
   "metadata": {},
   "outputs": [],
   "source": [
    "g_date = x['Date']"
   ]
  },
  {
   "cell_type": "code",
   "execution_count": 9,
   "id": "0a8cf02e",
   "metadata": {},
   "outputs": [],
   "source": [
    "g_change = x['Changes']"
   ]
  },
  {
   "cell_type": "code",
   "execution_count": 10,
   "id": "6bb2b5dd",
   "metadata": {},
   "outputs": [],
   "source": [
    "y = df.loc[df['Changes'].argmin()]"
   ]
  },
  {
   "cell_type": "code",
   "execution_count": 11,
   "id": "9e1155bc",
   "metadata": {},
   "outputs": [],
   "source": [
    "d_date = y['Date']"
   ]
  },
  {
   "cell_type": "code",
   "execution_count": 12,
   "id": "b58701a6",
   "metadata": {},
   "outputs": [],
   "source": [
    "d_change = y['Changes']"
   ]
  },
  {
   "cell_type": "code",
   "execution_count": 13,
   "id": "27d36821",
   "metadata": {},
   "outputs": [
    {
     "name": "stdout",
     "output_type": "stream",
     "text": [
      "Financial Analysis\n",
      "------------------------------\n",
      "Total Months: 86\n",
      "Total: $22564198\n",
      "Average Change: $-8311.11\n",
      "Greatest Increase in Profits: Aug-16 ($1862002.0)\n",
      "Greatest Decrease in Profits: Feb-14 ($-1825558.0)\n"
     ]
    }
   ],
   "source": [
    "print('Financial Analysis')\n",
    "print(30*'-')\n",
    "print('Total Months:',month_total)\n",
    "print(f'Total: ${total}')\n",
    "print(f'Average Change: ${change_avg}')\n",
    "print(f'Greatest Increase in Profits: {g_date} (${g_change})')\n",
    "print(f'Greatest Decrease in Profits: {d_date} (${d_change})')"
   ]
  },
  {
   "cell_type": "code",
   "execution_count": 14,
   "id": "548fac17",
   "metadata": {},
   "outputs": [],
   "source": [
    "fp = open('Q1.txt','w')\n",
    "fp.write('Financial Analysis')\n",
    "fp.write('\\n')\n",
    "fp.write(30*'-')\n",
    "fp.write('\\n')\n",
    "fp.write(f'Total Months: {month_total}')\n",
    "fp.write('\\n')\n",
    "fp.write(f'Total: ${total}')\n",
    "fp.write('\\n')\n",
    "fp.write(f'Average Change: ${change_avg}')\n",
    "fp.write('\\n')\n",
    "fp.write(f'Greatest Increase in Profits: {g_date} (${g_change})')\n",
    "fp.write('\\n')\n",
    "fp.write(f'Greatest Decrease in Profits: {d_date} (${d_change})')\n",
    "fp.close()"
   ]
  },
  {
   "cell_type": "markdown",
   "id": "7dfbb175",
   "metadata": {},
   "source": [
    "# Q.2"
   ]
  },
  {
   "cell_type": "code",
   "execution_count": 15,
   "id": "7be478bd",
   "metadata": {},
   "outputs": [],
   "source": [
    "df = pd.read_csv('election_data.csv')"
   ]
  },
  {
   "cell_type": "code",
   "execution_count": 16,
   "id": "c367ed8a",
   "metadata": {},
   "outputs": [
    {
     "data": {
      "text/html": [
       "<div>\n",
       "<style scoped>\n",
       "    .dataframe tbody tr th:only-of-type {\n",
       "        vertical-align: middle;\n",
       "    }\n",
       "\n",
       "    .dataframe tbody tr th {\n",
       "        vertical-align: top;\n",
       "    }\n",
       "\n",
       "    .dataframe thead th {\n",
       "        text-align: right;\n",
       "    }\n",
       "</style>\n",
       "<table border=\"1\" class=\"dataframe\">\n",
       "  <thead>\n",
       "    <tr style=\"text-align: right;\">\n",
       "      <th></th>\n",
       "      <th>Ballot ID</th>\n",
       "      <th>County</th>\n",
       "      <th>Candidate</th>\n",
       "    </tr>\n",
       "  </thead>\n",
       "  <tbody>\n",
       "    <tr>\n",
       "      <th>0</th>\n",
       "      <td>1323913</td>\n",
       "      <td>Jefferson</td>\n",
       "      <td>Charles Casper Stockham</td>\n",
       "    </tr>\n",
       "    <tr>\n",
       "      <th>1</th>\n",
       "      <td>1005842</td>\n",
       "      <td>Jefferson</td>\n",
       "      <td>Charles Casper Stockham</td>\n",
       "    </tr>\n",
       "    <tr>\n",
       "      <th>2</th>\n",
       "      <td>1880345</td>\n",
       "      <td>Jefferson</td>\n",
       "      <td>Charles Casper Stockham</td>\n",
       "    </tr>\n",
       "    <tr>\n",
       "      <th>3</th>\n",
       "      <td>1600337</td>\n",
       "      <td>Jefferson</td>\n",
       "      <td>Charles Casper Stockham</td>\n",
       "    </tr>\n",
       "    <tr>\n",
       "      <th>4</th>\n",
       "      <td>1835994</td>\n",
       "      <td>Jefferson</td>\n",
       "      <td>Charles Casper Stockham</td>\n",
       "    </tr>\n",
       "    <tr>\n",
       "      <th>...</th>\n",
       "      <td>...</td>\n",
       "      <td>...</td>\n",
       "      <td>...</td>\n",
       "    </tr>\n",
       "    <tr>\n",
       "      <th>369706</th>\n",
       "      <td>4714953</td>\n",
       "      <td>Arapahoe</td>\n",
       "      <td>Raymon Anthony Doane</td>\n",
       "    </tr>\n",
       "    <tr>\n",
       "      <th>369707</th>\n",
       "      <td>4497542</td>\n",
       "      <td>Arapahoe</td>\n",
       "      <td>Raymon Anthony Doane</td>\n",
       "    </tr>\n",
       "    <tr>\n",
       "      <th>369708</th>\n",
       "      <td>4085849</td>\n",
       "      <td>Arapahoe</td>\n",
       "      <td>Raymon Anthony Doane</td>\n",
       "    </tr>\n",
       "    <tr>\n",
       "      <th>369709</th>\n",
       "      <td>4592018</td>\n",
       "      <td>Arapahoe</td>\n",
       "      <td>Raymon Anthony Doane</td>\n",
       "    </tr>\n",
       "    <tr>\n",
       "      <th>369710</th>\n",
       "      <td>4660518</td>\n",
       "      <td>Arapahoe</td>\n",
       "      <td>Raymon Anthony Doane</td>\n",
       "    </tr>\n",
       "  </tbody>\n",
       "</table>\n",
       "<p>369711 rows × 3 columns</p>\n",
       "</div>"
      ],
      "text/plain": [
       "        Ballot ID     County                Candidate\n",
       "0         1323913  Jefferson  Charles Casper Stockham\n",
       "1         1005842  Jefferson  Charles Casper Stockham\n",
       "2         1880345  Jefferson  Charles Casper Stockham\n",
       "3         1600337  Jefferson  Charles Casper Stockham\n",
       "4         1835994  Jefferson  Charles Casper Stockham\n",
       "...           ...        ...                      ...\n",
       "369706    4714953   Arapahoe     Raymon Anthony Doane\n",
       "369707    4497542   Arapahoe     Raymon Anthony Doane\n",
       "369708    4085849   Arapahoe     Raymon Anthony Doane\n",
       "369709    4592018   Arapahoe     Raymon Anthony Doane\n",
       "369710    4660518   Arapahoe     Raymon Anthony Doane\n",
       "\n",
       "[369711 rows x 3 columns]"
      ]
     },
     "execution_count": 16,
     "metadata": {},
     "output_type": "execute_result"
    }
   ],
   "source": [
    "df"
   ]
  },
  {
   "cell_type": "code",
   "execution_count": 59,
   "id": "2f57bd0d",
   "metadata": {},
   "outputs": [],
   "source": [
    "total = len(df)"
   ]
  },
  {
   "cell_type": "code",
   "execution_count": 60,
   "id": "db12a175",
   "metadata": {},
   "outputs": [],
   "source": [
    "x = df['Candidate'].value_counts()"
   ]
  },
  {
   "cell_type": "code",
   "execution_count": 61,
   "id": "0b07ea12",
   "metadata": {},
   "outputs": [
    {
     "data": {
      "text/plain": [
       "'Diana DeGette'"
      ]
     },
     "execution_count": 61,
     "metadata": {},
     "output_type": "execute_result"
    }
   ],
   "source": [
    "winner = x.index[0]\n",
    "winner"
   ]
  },
  {
   "cell_type": "code",
   "execution_count": 62,
   "id": "d41cad6e",
   "metadata": {},
   "outputs": [
    {
     "name": "stdout",
     "output_type": "stream",
     "text": [
      "Election Results\n",
      "------------------------------\n",
      "Total Votes: 369711\n",
      "------------------------------\n",
      "Charles Casper Stockham: 23.049% (85213)\n",
      "Diana DeGette: 73.812% (272892)\n",
      "Raymon Anthony Doane: 3.139% (11606)\n",
      "------------------------------\n",
      "Winner: Diana DeGette\n",
      "------------------------------\n"
     ]
    }
   ],
   "source": [
    "print(\"Election Results\")\n",
    "print(30*'-')\n",
    "print(f\"Total Votes: {total}\")\n",
    "print(30*'-')\n",
    "for name in sorted(x.index):\n",
    "    votes = x[name]\n",
    "    print(f\"{name}: {round(votes*100/len(df),3)}% ({votes})\")\n",
    "print(30*'-')\n",
    "print(f'Winner: {winner}')\n",
    "print(30*'-')"
   ]
  },
  {
   "cell_type": "code",
   "execution_count": 63,
   "id": "34bc0ee4",
   "metadata": {},
   "outputs": [],
   "source": [
    "fp = open('Q2.txt','w')\n",
    "\n",
    "fp.write(\"Election Results\")\n",
    "fp.write('\\n')\n",
    "fp.write(30*'-')\n",
    "fp.write('\\n')\n",
    "fp.write(f\"Total Votes: {total}\")\n",
    "fp.write('\\n')\n",
    "fp.write(30*'-')\n",
    "fp.write('\\n')\n",
    "for name in sorted(x.index):\n",
    "    votes = x[name]\n",
    "    fp.write(f\"{name}: {round(votes*100/len(df),3)}% ({votes})\")\n",
    "    fp.write('\\n')\n",
    "fp.write(30*'-')\n",
    "fp.write('\\n')\n",
    "fp.write(f'Winner: {winner}')\n",
    "fp.write('\\n')\n",
    "fp.write(30*'-')\n",
    "fp.close()"
   ]
  },
  {
   "cell_type": "code",
   "execution_count": null,
   "id": "d213a323",
   "metadata": {},
   "outputs": [],
   "source": []
  }
 ],
 "metadata": {
  "kernelspec": {
   "display_name": "Python 3 (ipykernel)",
   "language": "python",
   "name": "python3"
  },
  "language_info": {
   "codemirror_mode": {
    "name": "ipython",
    "version": 3
   },
   "file_extension": ".py",
   "mimetype": "text/x-python",
   "name": "python",
   "nbconvert_exporter": "python",
   "pygments_lexer": "ipython3",
   "version": "3.8.5"
  }
 },
 "nbformat": 4,
 "nbformat_minor": 5
}
